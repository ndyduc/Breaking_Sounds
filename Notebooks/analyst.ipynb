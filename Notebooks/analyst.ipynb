{
 "cells": [
  {
   "metadata": {
    "ExecuteTime": {
     "end_time": "2025-01-04T06:30:08.094516Z",
     "start_time": "2025-01-04T06:30:07.625840Z"
    }
   },
   "cell_type": "code",
   "source": [
    "import pandas as pd\n",
    "from sklearn.model_selection import train_test_split\n",
    "from sklearn.preprocessing import StandardScaler\n",
    "\n",
    "file_path = 'PNJ.csv'\n",
    "df = pd.read_csv(file_path)\n",
    "\n",
    "df['Date/Time'] = pd.to_datetime(df['Date/Time'])\n",
    "\n",
    "# Tạo cột biến động giá và các đặc trưng bổ sung\n",
    "df['Price Change'] = df['Close'].shift(-1) - df['Close']\n",
    "df['Price Change %'] = (df['Close'] - df['Open']) / df['Open']\n",
    "df['Price Change day'] = df['Close'].diff() \n",
    "df['Close-to-Open Ratio'] = df['Close'] / df['Open']\n",
    "df['High-Low Difference'] = df['High'] - df['Low']\n",
    "df['VMA_10'] = df['Volume'].rolling(window=10).mean()\n",
    "df['EMA_10'] = df['Close'].ewm(span=10, adjust=False).mean()\n",
    "df['SMA_10'] = df['Close'].rolling(window=10).mean()\n",
    "df['SMA_20'] = df['Close'].rolling(window=20).mean()\n",
    "df['STD_20'] = df['Close'].rolling(window=20).std()\n",
    "df['Upper Band'] = df['SMA_20'] + 2 * df['STD_20']\n",
    "df['Lower Band'] = df['SMA_20'] - 2 * df['STD_20']\n",
    "df['Momentum'] = df['Close'].diff(4)  \n",
    "df = df.dropna()\n",
    "\n",
    "# Xác định lại đặc trưng (X) và nhãn (y)\n",
    "X = df[['Open', 'High', 'Low', 'Close', 'Volume', 'Price Change %', 'SMA_10', 'SMA_20', 'STD_20', 'Upper Band', 'Lower Band', 'Momentum', 'Price Change', 'Price Change day', 'Close-to-Open Ratio', 'High-Low Difference', 'VMA_10', 'EMA_10']]\n",
    "y = df['Price Change']\n",
    "\n",
    "# Chuẩn hóa dữ liệu (Standardization)\n",
    "scaler = StandardScaler()\n",
    "X_scaled = scaler.fit_transform(X)\n",
    "\n",
    "# Chia tập dữ liệu thành tập huấn luyện và kiểm tra\n",
    "X_train, X_test, y_train, y_test = train_test_split(X_scaled, y, test_size=0.2, shuffle=False)\n"
   ],
   "id": "a35971d266e0e0bc",
   "outputs": [],
   "execution_count": 59
  },
  {
   "metadata": {
    "ExecuteTime": {
     "end_time": "2025-01-04T06:32:14.011096Z",
     "start_time": "2025-01-04T06:30:08.345443Z"
    }
   },
   "cell_type": "code",
   "source": [
    "from tensorflow.keras.models import Sequential\n",
    "from tensorflow.keras.layers import Dense, Input\n",
    "from sklearn.metrics import mean_absolute_error, mean_squared_error, r2_score\n",
    "import numpy as np\n",
    "\n",
    "# Mô hình Neuron Network \n",
    "model_nn = Sequential([\n",
    "    Input(shape=(X_train.shape[1],)),\n",
    "    Dense(64, activation='relu'),\n",
    "    Dense(32, activation='relu'),\n",
    "    Dense(1, activation='linear')\n",
    "])\n",
    "\n",
    "model_nn.compile(optimizer='adam', loss='mean_squared_error')\n",
    "model_nn.fit(X_train, y_train, epochs=100, batch_size=32)\n",
    "\n",
    "y_pred_nn = model_nn.predict(X_test)\n",
    "\n",
    "# Đánh giá mô hình\n",
    "mae_nn = mean_absolute_error(y_test, y_pred_nn)\n",
    "rmse_nn = np.sqrt(mean_squared_error(y_test, y_pred_nn))\n",
    "r2_nn = r2_score(y_test, y_pred_nn)\n",
    "\n",
    "print(f\"MAE (NN): {mae_nn}\")\n",
    "print(f\"RMSE (NN): {rmse_nn}\")\n",
    "print(f\"R² Score (NN): {r2_nn}\")\n"
   ],
   "id": "64f29ecdac3721a7",
   "outputs": [
    {
     "name": "stdout",
     "output_type": "stream",
     "text": [
      "Epoch 1/100\n",
      "\u001B[1m3133/3133\u001B[0m \u001B[32m━━━━━━━━━━━━━━━━━━━━\u001B[0m\u001B[37m\u001B[0m \u001B[1m2s\u001B[0m 381us/step - loss: 0.0372\n",
      "Epoch 2/100\n",
      "\u001B[1m3133/3133\u001B[0m \u001B[32m━━━━━━━━━━━━━━━━━━━━\u001B[0m\u001B[37m\u001B[0m \u001B[1m1s\u001B[0m 368us/step - loss: 5.8334e-04\n",
      "Epoch 3/100\n",
      "\u001B[1m3133/3133\u001B[0m \u001B[32m━━━━━━━━━━━━━━━━━━━━\u001B[0m\u001B[37m\u001B[0m \u001B[1m1s\u001B[0m 367us/step - loss: 2.1858e-04\n",
      "Epoch 4/100\n",
      "\u001B[1m3133/3133\u001B[0m \u001B[32m━━━━━━━━━━━━━━━━━━━━\u001B[0m\u001B[37m\u001B[0m \u001B[1m1s\u001B[0m 393us/step - loss: 1.5655e-04\n",
      "Epoch 5/100\n",
      "\u001B[1m3133/3133\u001B[0m \u001B[32m━━━━━━━━━━━━━━━━━━━━\u001B[0m\u001B[37m\u001B[0m \u001B[1m1s\u001B[0m 410us/step - loss: 8.5271e-05\n",
      "Epoch 6/100\n",
      "\u001B[1m3133/3133\u001B[0m \u001B[32m━━━━━━━━━━━━━━━━━━━━\u001B[0m\u001B[37m\u001B[0m \u001B[1m1s\u001B[0m 384us/step - loss: 6.8101e-05\n",
      "Epoch 7/100\n",
      "\u001B[1m3133/3133\u001B[0m \u001B[32m━━━━━━━━━━━━━━━━━━━━\u001B[0m\u001B[37m\u001B[0m \u001B[1m1s\u001B[0m 374us/step - loss: 6.4596e-05\n",
      "Epoch 8/100\n",
      "\u001B[1m3133/3133\u001B[0m \u001B[32m━━━━━━━━━━━━━━━━━━━━\u001B[0m\u001B[37m\u001B[0m \u001B[1m1s\u001B[0m 386us/step - loss: 4.4755e-05\n",
      "Epoch 9/100\n",
      "\u001B[1m3133/3133\u001B[0m \u001B[32m━━━━━━━━━━━━━━━━━━━━\u001B[0m\u001B[37m\u001B[0m \u001B[1m1s\u001B[0m 386us/step - loss: 3.0395e-05\n",
      "Epoch 10/100\n",
      "\u001B[1m3133/3133\u001B[0m \u001B[32m━━━━━━━━━━━━━━━━━━━━\u001B[0m\u001B[37m\u001B[0m \u001B[1m1s\u001B[0m 392us/step - loss: 2.2488e-05\n",
      "Epoch 11/100\n",
      "\u001B[1m3133/3133\u001B[0m \u001B[32m━━━━━━━━━━━━━━━━━━━━\u001B[0m\u001B[37m\u001B[0m \u001B[1m1s\u001B[0m 390us/step - loss: 2.9566e-05\n",
      "Epoch 12/100\n",
      "\u001B[1m3133/3133\u001B[0m \u001B[32m━━━━━━━━━━━━━━━━━━━━\u001B[0m\u001B[37m\u001B[0m \u001B[1m1s\u001B[0m 383us/step - loss: 2.7025e-05\n",
      "Epoch 13/100\n",
      "\u001B[1m3133/3133\u001B[0m \u001B[32m━━━━━━━━━━━━━━━━━━━━\u001B[0m\u001B[37m\u001B[0m \u001B[1m1s\u001B[0m 398us/step - loss: 4.1423e-05\n",
      "Epoch 14/100\n",
      "\u001B[1m3133/3133\u001B[0m \u001B[32m━━━━━━━━━━━━━━━━━━━━\u001B[0m\u001B[37m\u001B[0m \u001B[1m1s\u001B[0m 385us/step - loss: 2.7893e-05\n",
      "Epoch 15/100\n",
      "\u001B[1m3133/3133\u001B[0m \u001B[32m━━━━━━━━━━━━━━━━━━━━\u001B[0m\u001B[37m\u001B[0m \u001B[1m1s\u001B[0m 394us/step - loss: 1.2352e-05\n",
      "Epoch 16/100\n",
      "\u001B[1m3133/3133\u001B[0m \u001B[32m━━━━━━━━━━━━━━━━━━━━\u001B[0m\u001B[37m\u001B[0m \u001B[1m1s\u001B[0m 394us/step - loss: 1.9505e-05\n",
      "Epoch 17/100\n",
      "\u001B[1m3133/3133\u001B[0m \u001B[32m━━━━━━━━━━━━━━━━━━━━\u001B[0m\u001B[37m\u001B[0m \u001B[1m1s\u001B[0m 388us/step - loss: 1.3206e-05\n",
      "Epoch 18/100\n",
      "\u001B[1m3133/3133\u001B[0m \u001B[32m━━━━━━━━━━━━━━━━━━━━\u001B[0m\u001B[37m\u001B[0m \u001B[1m1s\u001B[0m 394us/step - loss: 1.9504e-05\n",
      "Epoch 19/100\n",
      "\u001B[1m3133/3133\u001B[0m \u001B[32m━━━━━━━━━━━━━━━━━━━━\u001B[0m\u001B[37m\u001B[0m \u001B[1m1s\u001B[0m 429us/step - loss: 1.2900e-05\n",
      "Epoch 20/100\n",
      "\u001B[1m3133/3133\u001B[0m \u001B[32m━━━━━━━━━━━━━━━━━━━━\u001B[0m\u001B[37m\u001B[0m \u001B[1m1s\u001B[0m 414us/step - loss: 1.3013e-05\n",
      "Epoch 21/100\n",
      "\u001B[1m3133/3133\u001B[0m \u001B[32m━━━━━━━━━━━━━━━━━━━━\u001B[0m\u001B[37m\u001B[0m \u001B[1m1s\u001B[0m 386us/step - loss: 2.3280e-05\n",
      "Epoch 22/100\n",
      "\u001B[1m3133/3133\u001B[0m \u001B[32m━━━━━━━━━━━━━━━━━━━━\u001B[0m\u001B[37m\u001B[0m \u001B[1m1s\u001B[0m 387us/step - loss: 1.2829e-05\n",
      "Epoch 23/100\n",
      "\u001B[1m3133/3133\u001B[0m \u001B[32m━━━━━━━━━━━━━━━━━━━━\u001B[0m\u001B[37m\u001B[0m \u001B[1m1s\u001B[0m 384us/step - loss: 1.9247e-05\n",
      "Epoch 24/100\n",
      "\u001B[1m3133/3133\u001B[0m \u001B[32m━━━━━━━━━━━━━━━━━━━━\u001B[0m\u001B[37m\u001B[0m \u001B[1m1s\u001B[0m 383us/step - loss: 1.2003e-05\n",
      "Epoch 25/100\n",
      "\u001B[1m3133/3133\u001B[0m \u001B[32m━━━━━━━━━━━━━━━━━━━━\u001B[0m\u001B[37m\u001B[0m \u001B[1m1s\u001B[0m 393us/step - loss: 2.2431e-05\n",
      "Epoch 26/100\n",
      "\u001B[1m3133/3133\u001B[0m \u001B[32m━━━━━━━━━━━━━━━━━━━━\u001B[0m\u001B[37m\u001B[0m \u001B[1m1s\u001B[0m 384us/step - loss: 9.6029e-06\n",
      "Epoch 27/100\n",
      "\u001B[1m3133/3133\u001B[0m \u001B[32m━━━━━━━━━━━━━━━━━━━━\u001B[0m\u001B[37m\u001B[0m \u001B[1m2s\u001B[0m 479us/step - loss: 2.0259e-05\n",
      "Epoch 28/100\n",
      "\u001B[1m3133/3133\u001B[0m \u001B[32m━━━━━━━━━━━━━━━━━━━━\u001B[0m\u001B[37m\u001B[0m \u001B[1m2s\u001B[0m 578us/step - loss: 1.6664e-05\n",
      "Epoch 29/100\n",
      "\u001B[1m3133/3133\u001B[0m \u001B[32m━━━━━━━━━━━━━━━━━━━━\u001B[0m\u001B[37m\u001B[0m \u001B[1m1s\u001B[0m 414us/step - loss: 1.8477e-05\n",
      "Epoch 30/100\n",
      "\u001B[1m3133/3133\u001B[0m \u001B[32m━━━━━━━━━━━━━━━━━━━━\u001B[0m\u001B[37m\u001B[0m \u001B[1m1s\u001B[0m 394us/step - loss: 1.6976e-05\n",
      "Epoch 31/100\n",
      "\u001B[1m3133/3133\u001B[0m \u001B[32m━━━━━━━━━━━━━━━━━━━━\u001B[0m\u001B[37m\u001B[0m \u001B[1m1s\u001B[0m 420us/step - loss: 1.5571e-05\n",
      "Epoch 32/100\n",
      "\u001B[1m3133/3133\u001B[0m \u001B[32m━━━━━━━━━━━━━━━━━━━━\u001B[0m\u001B[37m\u001B[0m \u001B[1m1s\u001B[0m 397us/step - loss: 1.0059e-05\n",
      "Epoch 33/100\n",
      "\u001B[1m3133/3133\u001B[0m \u001B[32m━━━━━━━━━━━━━━━━━━━━\u001B[0m\u001B[37m\u001B[0m \u001B[1m1s\u001B[0m 392us/step - loss: 1.2075e-05\n",
      "Epoch 34/100\n",
      "\u001B[1m3133/3133\u001B[0m \u001B[32m━━━━━━━━━━━━━━━━━━━━\u001B[0m\u001B[37m\u001B[0m \u001B[1m1s\u001B[0m 414us/step - loss: 9.6169e-06\n",
      "Epoch 35/100\n",
      "\u001B[1m3133/3133\u001B[0m \u001B[32m━━━━━━━━━━━━━━━━━━━━\u001B[0m\u001B[37m\u001B[0m \u001B[1m1s\u001B[0m 383us/step - loss: 2.0797e-05\n",
      "Epoch 36/100\n",
      "\u001B[1m3133/3133\u001B[0m \u001B[32m━━━━━━━━━━━━━━━━━━━━\u001B[0m\u001B[37m\u001B[0m \u001B[1m1s\u001B[0m 418us/step - loss: 1.5159e-05\n",
      "Epoch 37/100\n",
      "\u001B[1m3133/3133\u001B[0m \u001B[32m━━━━━━━━━━━━━━━━━━━━\u001B[0m\u001B[37m\u001B[0m \u001B[1m1s\u001B[0m 407us/step - loss: 1.2321e-05\n",
      "Epoch 38/100\n",
      "\u001B[1m3133/3133\u001B[0m \u001B[32m━━━━━━━━━━━━━━━━━━━━\u001B[0m\u001B[37m\u001B[0m \u001B[1m1s\u001B[0m 439us/step - loss: 7.7730e-06\n",
      "Epoch 39/100\n",
      "\u001B[1m3133/3133\u001B[0m \u001B[32m━━━━━━━━━━━━━━━━━━━━\u001B[0m\u001B[37m\u001B[0m \u001B[1m1s\u001B[0m 450us/step - loss: 1.8623e-05\n",
      "Epoch 40/100\n",
      "\u001B[1m3133/3133\u001B[0m \u001B[32m━━━━━━━━━━━━━━━━━━━━\u001B[0m\u001B[37m\u001B[0m \u001B[1m1s\u001B[0m 394us/step - loss: 2.7197e-05\n",
      "Epoch 41/100\n",
      "\u001B[1m3133/3133\u001B[0m \u001B[32m━━━━━━━━━━━━━━━━━━━━\u001B[0m\u001B[37m\u001B[0m \u001B[1m1s\u001B[0m 382us/step - loss: 7.7367e-06\n",
      "Epoch 42/100\n",
      "\u001B[1m3133/3133\u001B[0m \u001B[32m━━━━━━━━━━━━━━━━━━━━\u001B[0m\u001B[37m\u001B[0m \u001B[1m1s\u001B[0m 395us/step - loss: 6.0550e-06\n",
      "Epoch 43/100\n",
      "\u001B[1m3133/3133\u001B[0m \u001B[32m━━━━━━━━━━━━━━━━━━━━\u001B[0m\u001B[37m\u001B[0m \u001B[1m1s\u001B[0m 382us/step - loss: 1.4109e-05\n",
      "Epoch 44/100\n",
      "\u001B[1m3133/3133\u001B[0m \u001B[32m━━━━━━━━━━━━━━━━━━━━\u001B[0m\u001B[37m\u001B[0m \u001B[1m1s\u001B[0m 383us/step - loss: 1.2955e-05\n",
      "Epoch 45/100\n",
      "\u001B[1m3133/3133\u001B[0m \u001B[32m━━━━━━━━━━━━━━━━━━━━\u001B[0m\u001B[37m\u001B[0m \u001B[1m1s\u001B[0m 381us/step - loss: 7.8657e-06\n",
      "Epoch 46/100\n",
      "\u001B[1m3133/3133\u001B[0m \u001B[32m━━━━━━━━━━━━━━━━━━━━\u001B[0m\u001B[37m\u001B[0m \u001B[1m1s\u001B[0m 379us/step - loss: 1.5068e-05\n",
      "Epoch 47/100\n",
      "\u001B[1m3133/3133\u001B[0m \u001B[32m━━━━━━━━━━━━━━━━━━━━\u001B[0m\u001B[37m\u001B[0m \u001B[1m1s\u001B[0m 381us/step - loss: 1.1634e-05\n",
      "Epoch 48/100\n",
      "\u001B[1m3133/3133\u001B[0m \u001B[32m━━━━━━━━━━━━━━━━━━━━\u001B[0m\u001B[37m\u001B[0m \u001B[1m1s\u001B[0m 385us/step - loss: 8.2196e-06\n",
      "Epoch 49/100\n",
      "\u001B[1m3133/3133\u001B[0m \u001B[32m━━━━━━━━━━━━━━━━━━━━\u001B[0m\u001B[37m\u001B[0m \u001B[1m1s\u001B[0m 384us/step - loss: 1.0861e-05\n",
      "Epoch 50/100\n",
      "\u001B[1m3133/3133\u001B[0m \u001B[32m━━━━━━━━━━━━━━━━━━━━\u001B[0m\u001B[37m\u001B[0m \u001B[1m1s\u001B[0m 389us/step - loss: 1.4326e-05\n",
      "Epoch 51/100\n",
      "\u001B[1m3133/3133\u001B[0m \u001B[32m━━━━━━━━━━━━━━━━━━━━\u001B[0m\u001B[37m\u001B[0m \u001B[1m1s\u001B[0m 383us/step - loss: 2.2139e-05\n",
      "Epoch 52/100\n",
      "\u001B[1m3133/3133\u001B[0m \u001B[32m━━━━━━━━━━━━━━━━━━━━\u001B[0m\u001B[37m\u001B[0m \u001B[1m1s\u001B[0m 391us/step - loss: 1.8082e-05\n",
      "Epoch 53/100\n",
      "\u001B[1m3133/3133\u001B[0m \u001B[32m━━━━━━━━━━━━━━━━━━━━\u001B[0m\u001B[37m\u001B[0m \u001B[1m1s\u001B[0m 389us/step - loss: 1.3418e-05\n",
      "Epoch 54/100\n",
      "\u001B[1m3133/3133\u001B[0m \u001B[32m━━━━━━━━━━━━━━━━━━━━\u001B[0m\u001B[37m\u001B[0m \u001B[1m1s\u001B[0m 409us/step - loss: 1.0602e-05\n",
      "Epoch 55/100\n",
      "\u001B[1m3133/3133\u001B[0m \u001B[32m━━━━━━━━━━━━━━━━━━━━\u001B[0m\u001B[37m\u001B[0m \u001B[1m1s\u001B[0m 431us/step - loss: 1.1342e-05\n",
      "Epoch 56/100\n",
      "\u001B[1m3133/3133\u001B[0m \u001B[32m━━━━━━━━━━━━━━━━━━━━\u001B[0m\u001B[37m\u001B[0m \u001B[1m1s\u001B[0m 390us/step - loss: 1.0419e-05\n",
      "Epoch 57/100\n",
      "\u001B[1m3133/3133\u001B[0m \u001B[32m━━━━━━━━━━━━━━━━━━━━\u001B[0m\u001B[37m\u001B[0m \u001B[1m1s\u001B[0m 392us/step - loss: 1.3018e-05\n",
      "Epoch 58/100\n",
      "\u001B[1m3133/3133\u001B[0m \u001B[32m━━━━━━━━━━━━━━━━━━━━\u001B[0m\u001B[37m\u001B[0m \u001B[1m1s\u001B[0m 378us/step - loss: 1.0341e-05\n",
      "Epoch 59/100\n",
      "\u001B[1m3133/3133\u001B[0m \u001B[32m━━━━━━━━━━━━━━━━━━━━\u001B[0m\u001B[37m\u001B[0m \u001B[1m1s\u001B[0m 391us/step - loss: 1.2369e-05\n",
      "Epoch 60/100\n",
      "\u001B[1m3133/3133\u001B[0m \u001B[32m━━━━━━━━━━━━━━━━━━━━\u001B[0m\u001B[37m\u001B[0m \u001B[1m1s\u001B[0m 382us/step - loss: 1.1097e-05\n",
      "Epoch 61/100\n",
      "\u001B[1m3133/3133\u001B[0m \u001B[32m━━━━━━━━━━━━━━━━━━━━\u001B[0m\u001B[37m\u001B[0m \u001B[1m1s\u001B[0m 380us/step - loss: 5.1467e-06\n",
      "Epoch 62/100\n",
      "\u001B[1m3133/3133\u001B[0m \u001B[32m━━━━━━━━━━━━━━━━━━━━\u001B[0m\u001B[37m\u001B[0m \u001B[1m1s\u001B[0m 379us/step - loss: 1.3275e-05\n",
      "Epoch 63/100\n",
      "\u001B[1m3133/3133\u001B[0m \u001B[32m━━━━━━━━━━━━━━━━━━━━\u001B[0m\u001B[37m\u001B[0m \u001B[1m1s\u001B[0m 381us/step - loss: 5.8186e-06\n",
      "Epoch 64/100\n",
      "\u001B[1m3133/3133\u001B[0m \u001B[32m━━━━━━━━━━━━━━━━━━━━\u001B[0m\u001B[37m\u001B[0m \u001B[1m1s\u001B[0m 388us/step - loss: 2.1464e-05\n",
      "Epoch 65/100\n",
      "\u001B[1m3133/3133\u001B[0m \u001B[32m━━━━━━━━━━━━━━━━━━━━\u001B[0m\u001B[37m\u001B[0m \u001B[1m1s\u001B[0m 386us/step - loss: 5.9295e-06\n",
      "Epoch 66/100\n",
      "\u001B[1m3133/3133\u001B[0m \u001B[32m━━━━━━━━━━━━━━━━━━━━\u001B[0m\u001B[37m\u001B[0m \u001B[1m1s\u001B[0m 388us/step - loss: 1.0672e-05\n",
      "Epoch 67/100\n",
      "\u001B[1m3133/3133\u001B[0m \u001B[32m━━━━━━━━━━━━━━━━━━━━\u001B[0m\u001B[37m\u001B[0m \u001B[1m1s\u001B[0m 411us/step - loss: 9.1005e-06\n",
      "Epoch 68/100\n",
      "\u001B[1m3133/3133\u001B[0m \u001B[32m━━━━━━━━━━━━━━━━━━━━\u001B[0m\u001B[37m\u001B[0m \u001B[1m1s\u001B[0m 405us/step - loss: 1.0368e-05\n",
      "Epoch 69/100\n",
      "\u001B[1m3133/3133\u001B[0m \u001B[32m━━━━━━━━━━━━━━━━━━━━\u001B[0m\u001B[37m\u001B[0m \u001B[1m1s\u001B[0m 391us/step - loss: 8.3270e-06\n",
      "Epoch 70/100\n",
      "\u001B[1m3133/3133\u001B[0m \u001B[32m━━━━━━━━━━━━━━━━━━━━\u001B[0m\u001B[37m\u001B[0m \u001B[1m1s\u001B[0m 383us/step - loss: 7.1380e-06\n",
      "Epoch 71/100\n",
      "\u001B[1m3133/3133\u001B[0m \u001B[32m━━━━━━━━━━━━━━━━━━━━\u001B[0m\u001B[37m\u001B[0m \u001B[1m1s\u001B[0m 383us/step - loss: 6.5754e-06\n",
      "Epoch 72/100\n",
      "\u001B[1m3133/3133\u001B[0m \u001B[32m━━━━━━━━━━━━━━━━━━━━\u001B[0m\u001B[37m\u001B[0m \u001B[1m1s\u001B[0m 383us/step - loss: 1.6919e-06\n",
      "Epoch 73/100\n",
      "\u001B[1m3133/3133\u001B[0m \u001B[32m━━━━━━━━━━━━━━━━━━━━\u001B[0m\u001B[37m\u001B[0m \u001B[1m1s\u001B[0m 391us/step - loss: 9.1959e-06\n",
      "Epoch 74/100\n",
      "\u001B[1m3133/3133\u001B[0m \u001B[32m━━━━━━━━━━━━━━━━━━━━\u001B[0m\u001B[37m\u001B[0m \u001B[1m1s\u001B[0m 439us/step - loss: 5.7296e-06\n",
      "Epoch 75/100\n",
      "\u001B[1m3133/3133\u001B[0m \u001B[32m━━━━━━━━━━━━━━━━━━━━\u001B[0m\u001B[37m\u001B[0m \u001B[1m1s\u001B[0m 388us/step - loss: 6.8814e-06\n",
      "Epoch 76/100\n",
      "\u001B[1m3133/3133\u001B[0m \u001B[32m━━━━━━━━━━━━━━━━━━━━\u001B[0m\u001B[37m\u001B[0m \u001B[1m1s\u001B[0m 385us/step - loss: 1.0632e-05\n",
      "Epoch 77/100\n",
      "\u001B[1m3133/3133\u001B[0m \u001B[32m━━━━━━━━━━━━━━━━━━━━\u001B[0m\u001B[37m\u001B[0m \u001B[1m1s\u001B[0m 387us/step - loss: 6.6933e-06\n",
      "Epoch 78/100\n",
      "\u001B[1m3133/3133\u001B[0m \u001B[32m━━━━━━━━━━━━━━━━━━━━\u001B[0m\u001B[37m\u001B[0m \u001B[1m1s\u001B[0m 389us/step - loss: 7.3789e-06\n",
      "Epoch 79/100\n",
      "\u001B[1m3133/3133\u001B[0m \u001B[32m━━━━━━━━━━━━━━━━━━━━\u001B[0m\u001B[37m\u001B[0m \u001B[1m1s\u001B[0m 381us/step - loss: 6.0439e-06\n",
      "Epoch 80/100\n",
      "\u001B[1m3133/3133\u001B[0m \u001B[32m━━━━━━━━━━━━━━━━━━━━\u001B[0m\u001B[37m\u001B[0m \u001B[1m1s\u001B[0m 382us/step - loss: 2.9591e-05\n",
      "Epoch 81/100\n",
      "\u001B[1m3133/3133\u001B[0m \u001B[32m━━━━━━━━━━━━━━━━━━━━\u001B[0m\u001B[37m\u001B[0m \u001B[1m1s\u001B[0m 387us/step - loss: 6.2114e-06\n",
      "Epoch 82/100\n",
      "\u001B[1m3133/3133\u001B[0m \u001B[32m━━━━━━━━━━━━━━━━━━━━\u001B[0m\u001B[37m\u001B[0m \u001B[1m1s\u001B[0m 391us/step - loss: 5.9711e-06\n",
      "Epoch 83/100\n",
      "\u001B[1m3133/3133\u001B[0m \u001B[32m━━━━━━━━━━━━━━━━━━━━\u001B[0m\u001B[37m\u001B[0m \u001B[1m1s\u001B[0m 381us/step - loss: 5.2953e-06\n",
      "Epoch 84/100\n",
      "\u001B[1m3133/3133\u001B[0m \u001B[32m━━━━━━━━━━━━━━━━━━━━\u001B[0m\u001B[37m\u001B[0m \u001B[1m1s\u001B[0m 382us/step - loss: 5.2562e-06\n",
      "Epoch 85/100\n",
      "\u001B[1m3133/3133\u001B[0m \u001B[32m━━━━━━━━━━━━━━━━━━━━\u001B[0m\u001B[37m\u001B[0m \u001B[1m1s\u001B[0m 390us/step - loss: 5.2202e-06\n",
      "Epoch 86/100\n",
      "\u001B[1m3133/3133\u001B[0m \u001B[32m━━━━━━━━━━━━━━━━━━━━\u001B[0m\u001B[37m\u001B[0m \u001B[1m1s\u001B[0m 380us/step - loss: 5.5206e-06\n",
      "Epoch 87/100\n",
      "\u001B[1m3133/3133\u001B[0m \u001B[32m━━━━━━━━━━━━━━━━━━━━\u001B[0m\u001B[37m\u001B[0m \u001B[1m1s\u001B[0m 380us/step - loss: 4.2308e-06\n",
      "Epoch 88/100\n",
      "\u001B[1m3133/3133\u001B[0m \u001B[32m━━━━━━━━━━━━━━━━━━━━\u001B[0m\u001B[37m\u001B[0m \u001B[1m1s\u001B[0m 394us/step - loss: 3.8847e-06\n",
      "Epoch 89/100\n",
      "\u001B[1m3133/3133\u001B[0m \u001B[32m━━━━━━━━━━━━━━━━━━━━\u001B[0m\u001B[37m\u001B[0m \u001B[1m1s\u001B[0m 383us/step - loss: 4.9860e-06\n",
      "Epoch 90/100\n",
      "\u001B[1m3133/3133\u001B[0m \u001B[32m━━━━━━━━━━━━━━━━━━━━\u001B[0m\u001B[37m\u001B[0m \u001B[1m1s\u001B[0m 390us/step - loss: 2.6829e-06\n",
      "Epoch 91/100\n",
      "\u001B[1m3133/3133\u001B[0m \u001B[32m━━━━━━━━━━━━━━━━━━━━\u001B[0m\u001B[37m\u001B[0m \u001B[1m1s\u001B[0m 384us/step - loss: 7.7656e-06\n",
      "Epoch 92/100\n",
      "\u001B[1m3133/3133\u001B[0m \u001B[32m━━━━━━━━━━━━━━━━━━━━\u001B[0m\u001B[37m\u001B[0m \u001B[1m1s\u001B[0m 384us/step - loss: 6.4158e-06\n",
      "Epoch 93/100\n",
      "\u001B[1m3133/3133\u001B[0m \u001B[32m━━━━━━━━━━━━━━━━━━━━\u001B[0m\u001B[37m\u001B[0m \u001B[1m1s\u001B[0m 383us/step - loss: 7.3889e-06\n",
      "Epoch 94/100\n",
      "\u001B[1m3133/3133\u001B[0m \u001B[32m━━━━━━━━━━━━━━━━━━━━\u001B[0m\u001B[37m\u001B[0m \u001B[1m1s\u001B[0m 383us/step - loss: 7.1153e-06\n",
      "Epoch 95/100\n",
      "\u001B[1m3133/3133\u001B[0m \u001B[32m━━━━━━━━━━━━━━━━━━━━\u001B[0m\u001B[37m\u001B[0m \u001B[1m1s\u001B[0m 384us/step - loss: 5.6071e-06\n",
      "Epoch 96/100\n",
      "\u001B[1m3133/3133\u001B[0m \u001B[32m━━━━━━━━━━━━━━━━━━━━\u001B[0m\u001B[37m\u001B[0m \u001B[1m1s\u001B[0m 383us/step - loss: 3.0442e-06\n",
      "Epoch 97/100\n",
      "\u001B[1m3133/3133\u001B[0m \u001B[32m━━━━━━━━━━━━━━━━━━━━\u001B[0m\u001B[37m\u001B[0m \u001B[1m1s\u001B[0m 394us/step - loss: 4.5938e-06\n",
      "Epoch 98/100\n",
      "\u001B[1m3133/3133\u001B[0m \u001B[32m━━━━━━━━━━━━━━━━━━━━\u001B[0m\u001B[37m\u001B[0m \u001B[1m1s\u001B[0m 384us/step - loss: 8.5042e-06\n",
      "Epoch 99/100\n",
      "\u001B[1m3133/3133\u001B[0m \u001B[32m━━━━━━━━━━━━━━━━━━━━\u001B[0m\u001B[37m\u001B[0m \u001B[1m1s\u001B[0m 383us/step - loss: 8.3454e-06\n",
      "Epoch 100/100\n",
      "\u001B[1m3133/3133\u001B[0m \u001B[32m━━━━━━━━━━━━━━━━━━━━\u001B[0m\u001B[37m\u001B[0m \u001B[1m1s\u001B[0m 391us/step - loss: 6.7512e-06\n",
      "\u001B[1m784/784\u001B[0m \u001B[32m━━━━━━━━━━━━━━━━━━━━\u001B[0m\u001B[37m\u001B[0m \u001B[1m0s\u001B[0m 233us/step\n",
      "MAE (NN): 0.0013640581792707786\n",
      "RMSE (NN): 0.0027376196515106737\n",
      "R² Score (NN): 0.9996870493367362\n"
     ]
    }
   ],
   "execution_count": 60
  },
  {
   "metadata": {
    "ExecuteTime": {
     "end_time": "2025-01-04T06:58:40.396238Z",
     "start_time": "2025-01-04T06:58:39.886602Z"
    }
   },
   "cell_type": "code",
   "source": [
    "new_data = X.tail(1)[['Open', 'High', 'Low', 'Close', 'Volume', 'Price Change %', 'SMA_10', 'SMA_20', 'STD_20', 'Upper Band', 'Lower Band', 'Momentum', 'Price Change', 'Price Change day', 'Close-to-Open Ratio', 'High-Low Difference', 'VMA_10', 'EMA_10']].values\n",
    "\n",
    "new_prediction = model_nn.predict(new_data)\n",
    "\n",
    "prediction_time = df.iloc[-1]['Date/Time'] + pd.Timedelta(days=1)\n",
    "\n",
    "print(f\"Prediction for {prediction_time}) by Neuron network: {new_prediction[0][0]}\")"
   ],
   "id": "25dd05a2b3c13383",
   "outputs": [
    {
     "name": "stdout",
     "output_type": "stream",
     "text": [
      "\u001B[1m1/1\u001B[0m \u001B[32m━━━━━━━━━━━━━━━━━━━━\u001B[0m\u001B[37m\u001B[0m \u001B[1m0s\u001B[0m 231ms/step\n",
      "Prediction for 2020-12-23 14:25:00) by Neuron network: -4.473906517028809\n"
     ]
    }
   ],
   "execution_count": 62
  },
  {
   "metadata": {
    "ExecuteTime": {
     "end_time": "2025-01-04T07:02:26.531839Z",
     "start_time": "2025-01-04T07:01:35.112603Z"
    }
   },
   "cell_type": "code",
   "source": [
    "from sklearn.ensemble import RandomForestRegressor\n",
    "from sklearn.metrics import mean_absolute_error, mean_squared_error, r2_score\n",
    "import numpy as np\n",
    "\n",
    "# Mô hình Random Forest Regressor\n",
    "model_rf = RandomForestRegressor(n_estimators=100, random_state=42)\n",
    "model_rf.fit(X_train, y_train)\n",
    "\n",
    "y_pred_rf = model_rf.predict(X_test)\n",
    "\n",
    "mae_rf = mean_absolute_error(y_test, y_pred_rf)\n",
    "rmse_rf = np.sqrt(mean_squared_error(y_test, y_pred_rf))\n",
    "r2_rf = r2_score(y_test, y_pred_rf)\n",
    "\n",
    "print(f\"MAE (Random Forest): {mae_rf}\")\n",
    "print(f\"RMSE (Random Forest): {rmse_rf}\")\n",
    "print(f\"R² Score (Random Forest): {r2_rf}\")"
   ],
   "id": "decffccc7e0abcd5",
   "outputs": [
    {
     "name": "stdout",
     "output_type": "stream",
     "text": [
      "MAE (Random Forest): 0.00018703807167568605\n",
      "RMSE (Random Forest): 0.002888497476371259\n",
      "R² Score (Random Forest): 0.9996516036136233\n"
     ]
    }
   ],
   "execution_count": 63
  },
  {
   "metadata": {
    "ExecuteTime": {
     "end_time": "2025-01-04T07:08:07.834533Z",
     "start_time": "2025-01-04T07:08:07.795616Z"
    }
   },
   "cell_type": "code",
   "source": [
    "new_data = X.tail(1).values\n",
    "new_data = X.tail(1)\n",
    "\n",
    "# Chuẩn hóa giữ lại tên cột\n",
    "new_data_scaled = scaler.transform(new_data)\n",
    "\n",
    "new_prediction = model_rf.predict(new_data_scaled)\n",
    "\n",
    "print(f\"Prediction for {prediction_time} by Ramdom Forest : {new_prediction[0]}\")"
   ],
   "id": "aadfc39631a7d4f1",
   "outputs": [
    {
     "name": "stdout",
     "output_type": "stream",
     "text": [
      "Prediction for 2020-12-23 14:25:00 by Ramdom Forest : 0.20000000000000026\n"
     ]
    }
   ],
   "execution_count": 67
  },
  {
   "metadata": {
    "ExecuteTime": {
     "end_time": "2025-01-05T14:09:09.955341Z",
     "start_time": "2025-01-05T14:08:37.489704Z"
    }
   },
   "cell_type": "code",
   "source": [
    "from sklearn.ensemble import GradientBoostingRegressor\n",
    "\n",
    "# Mô hình Gradient Boosting Regressor\n",
    "model_gb = GradientBoostingRegressor(n_estimators=100, random_state=42)\n",
    "model_gb.fit(X_train, y_train)\n",
    "\n",
    "y_pred_gb = model_gb.predict(X_test)\n",
    "\n",
    "mae_gb = mean_absolute_error(y_test, y_pred_gb)\n",
    "rmse_gb = np.sqrt(mean_squared_error(y_test, y_pred_gb))\n",
    "r2_gb = r2_score(y_test, y_pred_gb)\n",
    "\n",
    "print(f\"MAE (Gradient Boosting): {mae_gb}\")\n",
    "print(f\"RMSE (Gradient Boosting): {rmse_gb}\")\n",
    "print(f\"R² Score (Gradient Boosting): {r2_gb}\")"
   ],
   "id": "f135cb66057e8b6a",
   "outputs": [
    {
     "name": "stdout",
     "output_type": "stream",
     "text": [
      "MAE (Gradient Boosting): 0.001028493957500107\n",
      "RMSE (Gradient Boosting): 0.005656475058924286\n",
      "R² Score (Gradient Boosting): 0.9986639540035934\n"
     ]
    }
   ],
   "execution_count": 71
  },
  {
   "metadata": {
    "ExecuteTime": {
     "end_time": "2025-01-04T07:14:22.540990Z",
     "start_time": "2025-01-04T07:14:22.515287Z"
    }
   },
   "cell_type": "code",
   "source": [
    "new_data = X.tail(1)  # Lấy dòng cuối cùng trong dữ liệu (DataFrame)\n",
    "new_data_scaled = scaler.transform(new_data)  # Chuẩn hóa dữ liệu mới\n",
    "\n",
    "# Dự đoán giá cổ phiếu cho dòng dữ liệu mới\n",
    "new_prediction = model_gb.predict(new_data_scaled)\n",
    "\n",
    "# In kết quả dự đoán cho dòng dữ liệu mới\n",
    "print(f\"Prediction for {prediction_time} by Gradient Boosting: {new_prediction[0]}\")\n"
   ],
   "id": "d874d3018718e54e",
   "outputs": [
    {
     "name": "stdout",
     "output_type": "stream",
     "text": [
      "Prediction for 2020-12-23 14:25:00 by Gradient Boosting: 0.19924321606786835\n"
     ]
    }
   ],
   "execution_count": 70
  },
  {
   "metadata": {},
   "cell_type": "code",
   "outputs": [],
   "execution_count": null,
   "source": "",
   "id": "aced1b1c49e4dd62"
  }
 ],
 "metadata": {
  "kernelspec": {
   "display_name": "Python 3",
   "language": "python",
   "name": "python3"
  },
  "language_info": {
   "codemirror_mode": {
    "name": "ipython",
    "version": 2
   },
   "file_extension": ".py",
   "mimetype": "text/x-python",
   "name": "python",
   "nbconvert_exporter": "python",
   "pygments_lexer": "ipython2",
   "version": "2.7.6"
  }
 },
 "nbformat": 4,
 "nbformat_minor": 5
}
