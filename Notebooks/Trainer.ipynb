{
 "cells": [
  {
   "metadata": {
    "ExecuteTime": {
     "end_time": "2025-03-19T04:16:08.261412Z",
     "start_time": "2025-03-19T04:16:08.254106Z"
    }
   },
   "cell_type": "code",
   "source": [
    "import glob\n",
    "\n",
    "wav_files = sorted(glob.glob(\"../Data/MusicNet_Dataset/musicnet/musicnet/train_data/*.wav\"))\n",
    "csv_files = sorted(glob.glob(\"../Data/MusicNet_Dataset/musicnet/musicnet/train_labels/*.csv\"))"
   ],
   "id": "266381ceabad0e1",
   "outputs": [],
   "execution_count": 1
  },
  {
   "metadata": {
    "ExecuteTime": {
     "end_time": "2025-03-19T09:12:12.048214Z",
     "start_time": "2025-03-19T09:12:12.048147Z"
    }
   },
   "cell_type": "code",
   "source": [
    "import torch\n",
    "import librosa\n",
    "import numpy as np\n",
    "from Model.CNN_3layer import *\n",
    "\n",
    "device = torch.device(\"mps\" if torch.backends.mps.is_available() else \"cpu\")\n",
    "\n",
    "model = CNN_3L().to(device)\n",
    "checkpoint = torch.load(\"../Trained/checkpoint.pth\", weights_only=True, map_location=device)\n",
    "model.load_state_dict(checkpoint['model_state_dict'])\n",
    "for name, param in model.named_parameters():\n",
    "\tif \"fc2\" in name:\n",
    "\t\tprint(name, param.mean().item(), param.std().item())\n",
    "model.eval()\n",
    "\n",
    "# Dùng model để dự đoán nốt nhạc của một file WAV\n",
    "wav_file = \"../Data/MusicNet_Dataset/musicnet/musicnet/train_data/2478.wav\"\n",
    "predicted_notes = predict_notes(model, device, wav_file)\n",
    "print(\"Predicted notes:\", predicted_notes)\n",
    "print(\"Unique predicted values:\", np.unique(predicted_notes))\n",
    "\n",
    "for note, start, end in predicted_notes:\n",
    "\tif note == 128:  # Nếu là nhãn \"không có nốt\", bỏ qua\n",
    "\t\tcontinue\n",
    "\tnote_name = librosa.midi_to_note(note)  # Chuyển số MIDI thành tên nốt nhạc\n",
    "\tprint(f\"Note: {note_name}, Start: {start:.2f}s, End: {end:.2f}s\")"
   ],
   "id": "b5bf9b298d35e1c3",
   "outputs": [],
   "execution_count": null
  },
  {
   "metadata": {
    "ExecuteTime": {
     "end_time": "2025-03-19T10:17:11.487728Z",
     "start_time": "2025-03-19T10:17:09.433971Z"
    }
   },
   "cell_type": "code",
   "source": [
    "import librosa\n",
    "import numpy as np\n",
    "\n",
    "y, sr = librosa.load(\"../Data/MusicNet_Dataset/musicnet/musicnet/test_data/1819.wav\")\n",
    "\n",
    "# Phát hiện beat và downbeat\n",
    "tempo, beats = librosa.beat.beat_track(y=y, sr=sr)\n",
    "onset_env = librosa.onset.onset_strength(y=y, sr=sr)\n",
    "\n",
    "# Chuyển beats thành thời gian\n",
    "beat_times = librosa.frames_to_time(beats, sr=sr)\n",
    "\n",
    "if len(beat_times) > 1:\n",
    "\t# Tính khoảng cách giữa các beats\n",
    "\tbeat_intervals = np.diff(beat_times)\n",
    "\t# Tìm khoảng cách phổ biến nhất giữa các beats mạnh\n",
    "\tavg_interval = np.median(beat_intervals)\n",
    "\n",
    "\t# Xác định nhịp theo độ lặp lại của downbeat\n",
    "\tif avg_interval < 0.4:  # Nếu khoảng cách nhỏ (thường là 3 beats trong 1 chu kỳ)\n",
    "\t\ttime_signature = \"3/4\"\n",
    "\telse:  # Nếu khoảng cách lớn hơn (thường là 4 beats trong 1 chu kỳ)\n",
    "\t\ttime_signature = \"4/4\"\n",
    "else:\n",
    "\ttime_signature = \"Không xác định\"\n",
    "\n",
    "# In kết quả\n",
    "print(f\"Tempo: {tempo[0]:.2f} BPM\")\n",
    "print(f\"Ước lượng nhịp: {time_signature}\")"
   ],
   "id": "3d5d7c93f6ad5090",
   "outputs": [
    {
     "name": "stdout",
     "output_type": "stream",
     "text": [
      "Tempo: 152.00 BPM\n",
      "Ước lượng nhịp: 3/4\n"
     ]
    }
   ],
   "execution_count": 3
  },
  {
   "metadata": {},
   "cell_type": "code",
   "source": [
    "import librosa\n",
    "import glob\n",
    "import numpy as np\n",
    "\n",
    "path = \"../Data/MusicNet_Dataset/musicnet/musicnet/train_data/*.wav\"\n",
    "\n",
    "files = glob.glob(path)\n",
    "\n",
    "unique_tempos = set()\n",
    "\n",
    "for file in files:\n",
    "\ty, sr = librosa.load(file)\n",
    "\ttempo, _ = librosa.beat.beat_track(y=y, sr=sr)\n",
    "\ttempo = tempo[0] if tempo.ndim > 0 else tempo\n",
    "\t# Thêm tempo vào tập hợp\n",
    "\tunique_tempos.add(round(tempo, 2))\n",
    "\n",
    "print(\"Các tempo duy nhất:\")\n",
    "for t in sorted(unique_tempos):\n",
    "\tprint(f\"{t}, \")"
   ],
   "id": "fadc723e2060a8e3",
   "outputs": [],
   "execution_count": null
  },
  {
   "metadata": {
    "ExecuteTime": {
     "end_time": "2025-03-19T09:12:12.050493Z",
     "start_time": "2025-03-19T09:12:12.050425Z"
    }
   },
   "cell_type": "code",
   "source": [
    "import mido\n",
    "import glob\n",
    "\n",
    "path = \"../Data/MusicNet_Dataset/musicnet_midis/musicnet_midis/Bach/2302_fugue5.mid\"\n",
    "\n",
    "files = glob.glob(path)\n",
    "\n",
    "unique_time_signatures = set()\n",
    "\n",
    "for file in files:\n",
    "\ttry:\n",
    "\t\tmidi = mido.MidiFile(file, clip=True)  # clip=True giúp bỏ qua giá trị không hợp lệ\n",
    "\t\tfor track in midi.tracks:\n",
    "\t\t\tfor msg in track:\n",
    "\t\t\t\tif msg.type == 'time_signature':\n",
    "\t\t\t\t\ttime_sig = f\"{msg.numerator}/{msg.denominator}\"\n",
    "\t\t\t\t\tunique_time_signatures.add(time_sig)\n",
    "\texcept Exception as e:\n",
    "\t\tprint(f\"Lỗi khi đọc file {file}: {e}\")\n",
    "\n",
    "print(\"Các nhịp có trong dữ liệu MIDI:\")\n",
    "for ts in sorted(unique_time_signatures):\n",
    "\tprint(ts)"
   ],
   "id": "b4aec81a4997b6ea",
   "outputs": [],
   "execution_count": null
  },
  {
   "metadata": {},
   "cell_type": "code",
   "source": "",
   "id": "54af5383d8a99fa7",
   "outputs": [],
   "execution_count": null
  }
 ],
 "metadata": {
  "kernelspec": {
   "display_name": "Python 3",
   "language": "python",
   "name": "python3"
  },
  "language_info": {
   "codemirror_mode": {
    "name": "ipython",
    "version": 2
   },
   "file_extension": ".py",
   "mimetype": "text/x-python",
   "name": "python",
   "nbconvert_exporter": "python",
   "pygments_lexer": "ipython2",
   "version": "2.7.6"
  }
 },
 "nbformat": 4,
 "nbformat_minor": 5
}
