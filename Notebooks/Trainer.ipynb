{
 "cells": [
  {
   "metadata": {
    "ExecuteTime": {
     "end_time": "2025-02-23T11:29:42.802535Z",
     "start_time": "2025-02-23T11:29:42.756981Z"
    }
   },
   "cell_type": "code",
   "source": [
    "import glob\n",
    "\n",
    "wav_files = sorted(glob.glob(\"../Data/MusicNet_Dataset/musicnet/musicnet/train_data/*.wav\"))\n",
    "csv_files = sorted(glob.glob(\"../Data/MusicNet_Dataset/musicnet/musicnet/train_labels/*.csv\"))\n",
    "\n",
    "# Đảm bảo số lượng file trùng khớp\n",
    "assert len(wav_files) == len(csv_files), \"Số lượng file WAV và CSV không khớp!\""
   ],
   "id": "266381ceabad0e1",
   "outputs": [],
   "execution_count": 58
  },
  {
   "metadata": {
    "ExecuteTime": {
     "end_time": "2025-02-23T11:29:42.828028Z",
     "start_time": "2025-02-23T11:29:42.819716Z"
    }
   },
   "cell_type": "code",
   "source": [
    "from Model.CNN_3layer import CNN_3L\n",
    "import torch.nn as nn\n",
    "import torch.optim as optim\n",
    "from Model.CNN_3L_pro import *\n",
    "import torch\n",
    "import os\n",
    "\n",
    "device = torch.device(\"mps\" if torch.backends.mps.is_available() else \"cpu\")\n",
    "\n",
    "# Khởi tạo mô hình, hàm mất mát và optimizer\n",
    "model = CNN_3L().to(device)\n",
    "criterion = nn.CrossEntropyLoss()\n",
    "optimizer = optim.Adam(model.parameters(), lr=0.0001)\n",
    "\n",
    "if os.path.exists(\"checkpoint.pth\"):       \n",
    "    checkpoint = torch.load(\"checkpoint.pth\",weights_only=True, map_location=device)\n",
    "    model.load_state_dict(checkpoint['model_state_dict'])\n",
    "    optimizer.load_state_dict(checkpoint['optimizer_state_dict'])\n",
    "\n",
    "# Huấn luyện từng file một\n",
    "for wav_path, csv_path in zip(wav_files, csv_files):\n",
    "    print(f\"\\nfile : {wav_path}\")\n",
    "    # Load dữ liệu\n",
    "    X_train, y_train = load_wav_csv(wav_path, csv_path)\n",
    "    # Tạo DataLoader\n",
    "    dataset = MusicDataset(X_train, y_train)\n",
    "    train_loader = data.DataLoader(dataset, batch_size=64, shuffle=False)\n",
    "\n",
    "    for epoch in range(20):  # Giảm số epoch cho từng file\n",
    "        model.train()\n",
    "        running_loss = 0.0\n",
    "        correct = 0\n",
    "        total = 0\n",
    "\n",
    "        for inputs, labels in train_loader:\n",
    "            inputs, labels = inputs.to(device), labels.to(device)\n",
    "\n",
    "            optimizer.zero_grad()\n",
    "            outputs = model(inputs)\n",
    "            print(\"Raw outputs:\", outputs.max(), outputs.min(), outputs.mean())\n",
    "            loss = criterion(outputs, labels)\n",
    "            loss.backward()\n",
    "            optimizer.step()\n",
    "\n",
    "            running_loss += loss.item()\n",
    "            _, predicted = outputs.max(1)\n",
    "            correct += (predicted == labels).sum().item()\n",
    "            total += labels.size(0)\n",
    "\n",
    "        if epoch >= 19:\n",
    "            print(f\"Epoch {epoch+1}/20, Loss: {running_loss/len(train_loader):.4f}, \"\n",
    "              f\"Accuracy: {100 * correct / total:.2f}%\")\n",
    "\n",
    "    torch.save({\n",
    "        'model_state_dict': model.state_dict(),\n",
    "        'optimizer_state_dict': optimizer.state_dict()\n",
    "    }, \"checkpoint.pth\")\n",
    "    print(f\"Updated checkpoint sau file {wav_path}\")\n",
    "\n",
    "print(\"done training !\")"
   ],
   "id": "3a62346bb40ddca9",
   "outputs": [],
   "execution_count": 60
  },
  {
   "metadata": {
    "ExecuteTime": {
     "end_time": "2025-02-23T11:29:50.313351Z",
     "start_time": "2025-02-23T11:29:50.313293Z"
    }
   },
   "cell_type": "code",
   "source": [
    "import torch\n",
    "import librosa\n",
    "import numpy as np\n",
    "\n",
    "device = torch.device(\"mps\" if torch.backends.mps.is_available() else \"cpu\")\n",
    "\n",
    "# Load mô hình đã huấn luyện\n",
    "model = CNN_Pro().to(device)\n",
    "checkpoint = torch.load(\"checkpoint.pth\",weights_only=True, map_location=device)\n",
    "model.load_state_dict(checkpoint['model_state_dict'])\n",
    "for name, param in model.named_parameters():\n",
    "    if \"fc2\" in name:  # Lớp cuối cùng\n",
    "        print(name, param.mean().item(), param.std().item())\n",
    "model.eval()  # Chuyển sang chế độ dự đoán\n",
    "\n",
    "def predict_notes(wav_path, sr=44100, hop_length=512, window_size=128, step=64):\n",
    "    y, sr = librosa.load(wav_path, sr=sr)\n",
    "    mel_spec = librosa.feature.melspectrogram(y=y, sr=sr, n_mels=128, hop_length=hop_length)\n",
    "    mel_spec_db = librosa.power_to_db(mel_spec, ref=np.max)\n",
    "    print(\"Mel spectrogram shape:\", mel_spec_db.shape)\n",
    "    print(\"Max value:\", np.max(mel_spec_db), \"Min value:\", np.min(mel_spec_db))\n",
    "    # Chia nhỏ spectrogram thành các đoạn như khi huấn luyện\n",
    "    def create_windows(X, window_size, step):\n",
    "        X_windows = []\n",
    "        indices = []\n",
    "        for i in range(0, X.shape[1] - window_size, step):\n",
    "            X_windows.append(X[:, i:i + window_size])\n",
    "            indices.append(i)\n",
    "        return np.array(X_windows), indices\n",
    "\n",
    "    X_test, indices = create_windows(mel_spec_db, window_size, step)\n",
    "    X_test = torch.tensor(X_test, dtype=torch.float32).unsqueeze(1).to(device)\n",
    "\n",
    "    # Dự đoán\n",
    "    with torch.no_grad():\n",
    "        outputs = model(X_test)\n",
    "        predicted_notes = torch.argmax(outputs, dim=1).cpu().numpy()\n",
    "\n",
    "    # Chuyển frame thành thời gian\n",
    "    def frame_to_time(frame, sr, hop_length):\n",
    "        return (frame * hop_length) / sr\n",
    "\n",
    "    results = []\n",
    "    prev_note = None\n",
    "    start_time = None\n",
    "    \n",
    "    for idx, note in zip(indices, predicted_notes):\n",
    "        time = frame_to_time(idx, sr, hop_length)\n",
    "    \n",
    "        if note != prev_note:  \n",
    "            if prev_note is not None and prev_note != 128:  # Lưu nốt trước đó nếu nó không phải \"không có nốt\"\n",
    "                results.append((prev_note, start_time, time))\n",
    "            if note != 128:  # Khi đổi sang nốt mới, cập nhật start_time nếu không phải \"không có nốt\"\n",
    "                start_time = time  \n",
    "            prev_note = note  \n",
    "    \n",
    "    # Nếu file kết thúc với một nốt đang chơi, lưu lại nó\n",
    "    if prev_note is not None and prev_note != 128:\n",
    "        results.append((prev_note, start_time, time))\n",
    "\n",
    "    return results\n",
    "\n",
    "# Dùng model để dự đoán nốt nhạc của một file WAV\n",
    "wav_file = \"../Data/MusicNet_Dataset/musicnet/musicnet/train_data/2478.wav\"\n",
    "predicted_notes = predict_notes(wav_file)\n",
    "print(\"Predicted notes:\", predicted_notes)\n",
    "print(\"Unique predicted values:\", np.unique(predicted_notes))\n",
    "\n",
    "for note, start, end in predicted_notes:\n",
    "    if note == 128:  # Nếu là nhãn \"không có nốt\", bỏ qua\n",
    "        continue\n",
    "    note_name = librosa.midi_to_note(note)  # Chuyển số MIDI thành tên nốt nhạc\n",
    "    print(f\"Note: {note_name}, Start: {start:.2f}s, End: {end:.2f}s\")"
   ],
   "id": "b5bf9b298d35e1c3",
   "outputs": [],
   "execution_count": null
  },
  {
   "metadata": {
    "ExecuteTime": {
     "end_time": "2025-03-18T08:15:22.618027Z",
     "start_time": "2025-03-18T08:15:22.058231Z"
    }
   },
   "cell_type": "code",
   "source": [
    "import librosa\n",
    "import numpy as np\n",
    "\n",
    "y, sr = librosa.load(\"../Data/MusicNet_Dataset/musicnet/musicnet/test_data/2628.wav\")\n",
    "\n",
    "# Phát hiện beat và downbeat\n",
    "tempo, beats = librosa.beat.beat_track(y=y, sr=sr)\n",
    "onset_env = librosa.onset.onset_strength(y=y, sr=sr)\n",
    "\n",
    "# Chuyển beats thành thời gian\n",
    "beat_times = librosa.frames_to_time(beats, sr=sr)\n",
    "\n",
    "if len(beat_times) > 1:\n",
    "    # Tính khoảng cách giữa các beats\n",
    "    beat_intervals = np.diff(beat_times)\n",
    "    # Tìm khoảng cách phổ biến nhất giữa các beats mạnh\n",
    "    avg_interval = np.median(beat_intervals)\n",
    "\n",
    "    # Xác định nhịp theo độ lặp lại của downbeat\n",
    "    if avg_interval < 0.4:  # Nếu khoảng cách nhỏ (thường là 3 beats trong 1 chu kỳ)\n",
    "        time_signature = \"3/4\"\n",
    "    else:  # Nếu khoảng cách lớn hơn (thường là 4 beats trong 1 chu kỳ)\n",
    "        time_signature = \"4/4\"\n",
    "else:\n",
    "    time_signature = \"Không xác định\"\n",
    "\n",
    "# In kết quả\n",
    "print(f\"Tempo: {tempo[0]:.2f} BPM\")\n",
    "print(f\"Ước lượng nhịp: {time_signature}\")"
   ],
   "id": "3d5d7c93f6ad5090",
   "outputs": [
    {
     "name": "stdout",
     "output_type": "stream",
     "text": [
      "Tempo: 99.38 BPM\n",
      "Ước lượng nhịp: 4/4\n"
     ]
    }
   ],
   "execution_count": 90
  },
  {
   "metadata": {
    "ExecuteTime": {
     "end_time": "2025-03-18T08:58:24.001589Z",
     "start_time": "2025-03-18T08:55:28.615664Z"
    }
   },
   "cell_type": "code",
   "source": [
    "import librosa\n",
    "import glob\n",
    "import numpy as np\n",
    "\n",
    "path = \"../Data/MusicNet_Dataset/musicnet/musicnet/train_data/*.wav\"\n",
    "\n",
    "files = glob.glob(path)\n",
    "\n",
    "unique_tempos = set()\n",
    "\n",
    "for file in files:\n",
    "    y, sr = librosa.load(file)\n",
    "    tempo, _ = librosa.beat.beat_track(y=y, sr=sr)\n",
    "    tempo = tempo[0] if tempo.ndim > 0 else tempo\n",
    "    # Thêm tempo vào tập hợp\n",
    "    unique_tempos.add(round(tempo, 2))\n",
    "\n",
    "print(\"Các tempo duy nhất:\")\n",
    "for t in sorted(unique_tempos):\n",
    "    print(f\"{t}, \")"
   ],
   "id": "fadc723e2060a8e3",
   "outputs": [
    {
     "name": "stdout",
     "output_type": "stream",
     "text": [
      "Các tempo duy nhất:\n",
      "60.09, \n",
      "63.02, \n",
      "66.26, \n",
      "68.0, \n",
      "69.84, \n",
      "73.83, \n",
      "78.3, \n",
      "80.75, \n",
      "83.35, \n",
      "86.13, \n",
      "89.1, \n",
      "92.29, \n",
      "95.7, \n",
      "99.38, \n",
      "103.36, \n",
      "107.67, \n",
      "112.35, \n",
      "117.45, \n",
      "123.05, \n",
      "129.2, \n",
      "136.0, \n",
      "143.55, \n",
      "152.0, \n",
      "161.5, \n",
      "172.27, \n",
      "184.57, \n",
      "198.77, \n",
      "215.33, \n",
      "234.91, \n"
     ]
    }
   ],
   "execution_count": 91
  },
  {
   "metadata": {
    "ExecuteTime": {
     "end_time": "2025-03-17T17:24:15.841231Z",
     "start_time": "2025-03-17T17:24:15.822928Z"
    }
   },
   "cell_type": "code",
   "source": [
    "import mido\n",
    "import glob\n",
    "\n",
    "path = \"../Data/MusicNet_Dataset/musicnet_midis/musicnet_midis/Bach/2302_fugue5.mid\"\n",
    "\n",
    "files = glob.glob(path)\n",
    "\n",
    "unique_time_signatures = set()\n",
    "\n",
    "for file in files:\n",
    "    try:\n",
    "        midi = mido.MidiFile(file, clip=True)  # clip=True giúp bỏ qua giá trị không hợp lệ\n",
    "        for track in midi.tracks:\n",
    "            for msg in track:\n",
    "                if msg.type == 'time_signature':\n",
    "                    time_sig = f\"{msg.numerator}/{msg.denominator}\"\n",
    "                    unique_time_signatures.add(time_sig)\n",
    "    except Exception as e:\n",
    "        print(f\"Lỗi khi đọc file {file}: {e}\")\n",
    "\n",
    "print(\"Các nhịp có trong dữ liệu MIDI:\")\n",
    "for ts in sorted(unique_time_signatures):\n",
    "    print(ts)"
   ],
   "id": "b4aec81a4997b6ea",
   "outputs": [
    {
     "name": "stdout",
     "output_type": "stream",
     "text": [
      "Các nhịp có trong dữ liệu MIDI:\n",
      "4/4\n"
     ]
    }
   ],
   "execution_count": 87
  },
  {
   "metadata": {},
   "cell_type": "code",
   "outputs": [],
   "execution_count": null,
   "source": "",
   "id": "54af5383d8a99fa7"
  }
 ],
 "metadata": {
  "kernelspec": {
   "display_name": "Python 3",
   "language": "python",
   "name": "python3"
  },
  "language_info": {
   "codemirror_mode": {
    "name": "ipython",
    "version": 2
   },
   "file_extension": ".py",
   "mimetype": "text/x-python",
   "name": "python",
   "nbconvert_exporter": "python",
   "pygments_lexer": "ipython2",
   "version": "2.7.6"
  }
 },
 "nbformat": 4,
 "nbformat_minor": 5
}
