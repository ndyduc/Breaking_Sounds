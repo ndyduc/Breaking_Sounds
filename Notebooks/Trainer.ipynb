{
 "cells": [
  {
   "metadata": {
    "ExecuteTime": {
     "end_time": "2025-02-23T11:29:42.802535Z",
     "start_time": "2025-02-23T11:29:42.756981Z"
    }
   },
   "cell_type": "code",
   "source": [
    "import glob\n",
    "\n",
    "wav_files = sorted(glob.glob(\"../Data/MusicNet_Dataset/musicnet/musicnet/train_data/*.wav\"))\n",
    "csv_files = sorted(glob.glob(\"../Data/MusicNet_Dataset/musicnet/musicnet/train_labels/*.csv\"))\n",
    "\n",
    "# Đảm bảo số lượng file trùng khớp\n",
    "assert len(wav_files) == len(csv_files), \"Số lượng file WAV và CSV không khớp!\""
   ],
   "id": "266381ceabad0e1",
   "outputs": [],
   "execution_count": 58
  },
  {
   "metadata": {
    "ExecuteTime": {
     "end_time": "2025-02-23T11:29:42.828028Z",
     "start_time": "2025-02-23T11:29:42.819716Z"
    }
   },
   "cell_type": "code",
   "source": "from Model.CNN_3layer import CNN_3L",
   "id": "3a62346bb40ddca9",
   "outputs": [],
   "execution_count": 60
  },
  {
   "metadata": {
    "ExecuteTime": {
     "end_time": "2025-02-23T11:29:50.312269Z",
     "start_time": "2025-02-23T11:29:42.836994Z"
    }
   },
   "cell_type": "code",
   "source": [
    "import torch.nn as nn\n",
    "import torch.optim as optim\n",
    "from Model.CNN_3L_pro import *\n",
    "import torch\n",
    "import os\n",
    "\n",
    "device = torch.device(\"mps\" if torch.backends.mps.is_available() else \"cpu\")\n",
    "\n",
    "# Khởi tạo mô hình, hàm mất mát và optimizer\n",
    "model = CNN_3L().to(device)\n",
    "criterion = nn.CrossEntropyLoss()\n",
    "optimizer = optim.Adam(model.parameters(), lr=0.0001)\n",
    "\n",
    "if os.path.exists(\"checkpoint.pth\"):       \n",
    "    checkpoint = torch.load(\"checkpoint.pth\",weights_only=True, map_location=device)\n",
    "    model.load_state_dict(checkpoint['model_state_dict'])\n",
    "    optimizer.load_state_dict(checkpoint['optimizer_state_dict'])\n",
    "\n",
    "# Huấn luyện từng file một\n",
    "for wav_path, csv_path in zip(wav_files, csv_files):\n",
    "    print(f\"\\nfile : {wav_path}\")\n",
    "    # Load dữ liệu\n",
    "    X_train, y_train = load_wav_csv(wav_path, csv_path)\n",
    "    # Tạo DataLoader\n",
    "    dataset = MusicDataset(X_train, y_train)\n",
    "    train_loader = data.DataLoader(dataset, batch_size=64, shuffle=False)\n",
    "\n",
    "    for epoch in range(20):  # Giảm số epoch cho từng file\n",
    "        model.train()\n",
    "        running_loss = 0.0\n",
    "        correct = 0\n",
    "        total = 0\n",
    "\n",
    "        for inputs, labels in train_loader:\n",
    "            inputs, labels = inputs.to(device), labels.to(device)\n",
    "\n",
    "            optimizer.zero_grad()\n",
    "            outputs = model(inputs)\n",
    "            print(\"Raw outputs:\", outputs.max(), outputs.min(), outputs.mean())\n",
    "            loss = criterion(outputs, labels)\n",
    "            loss.backward()\n",
    "            optimizer.step()\n",
    "\n",
    "            running_loss += loss.item()\n",
    "            _, predicted = outputs.max(1)\n",
    "            correct += (predicted == labels).sum().item()\n",
    "            total += labels.size(0)\n",
    "\n",
    "        if epoch >= 19:\n",
    "            print(f\"Epoch {epoch+1}/20, Loss: {running_loss/len(train_loader):.4f}, \"\n",
    "              f\"Accuracy: {100 * correct / total:.2f}%\")\n",
    "\n",
    "    torch.save({\n",
    "        'model_state_dict': model.state_dict(),\n",
    "        'optimizer_state_dict': optimizer.state_dict()\n",
    "    }, \"checkpoint.pth\")\n",
    "    print(f\"Updated checkpoint sau file {wav_path}\")\n",
    "\n",
    "print(\"done training !\")"
   ],
   "id": "e52f6c9c91a519a0",
   "outputs": [
    {
     "ename": "RuntimeError",
     "evalue": "Error(s) in loading state_dict for CNN_Pro:\n\tMissing key(s) in state_dict: \"conv4.weight\", \"conv4.bias\", \"bn4.weight\", \"bn4.bias\", \"bn4.running_mean\", \"bn4.running_var\". \n\tsize mismatch for conv1.weight: copying a param with shape torch.Size([32, 1, 3, 3]) from checkpoint, the shape in current model is torch.Size([32, 1, 5, 5]).\n\tsize mismatch for fc1.weight: copying a param with shape torch.Size([256, 32768]) from checkpoint, the shape in current model is torch.Size([512, 4096]).\n\tsize mismatch for fc1.bias: copying a param with shape torch.Size([256]) from checkpoint, the shape in current model is torch.Size([512]).\n\tsize mismatch for fc2.weight: copying a param with shape torch.Size([129, 256]) from checkpoint, the shape in current model is torch.Size([129, 512]).",
     "output_type": "error",
     "traceback": [
      "\u001B[0;31m---------------------------------------------------------------------------\u001B[0m",
      "\u001B[0;31mRuntimeError\u001B[0m                              Traceback (most recent call last)",
      "Cell \u001B[0;32mIn[62], line 16\u001B[0m\n\u001B[1;32m     14\u001B[0m \u001B[38;5;28;01mif\u001B[39;00m os\u001B[38;5;241m.\u001B[39mpath\u001B[38;5;241m.\u001B[39mexists(\u001B[38;5;124m\"\u001B[39m\u001B[38;5;124mcheckpoint.pth\u001B[39m\u001B[38;5;124m\"\u001B[39m):       \n\u001B[1;32m     15\u001B[0m     checkpoint \u001B[38;5;241m=\u001B[39m torch\u001B[38;5;241m.\u001B[39mload(\u001B[38;5;124m\"\u001B[39m\u001B[38;5;124mcheckpoint.pth\u001B[39m\u001B[38;5;124m\"\u001B[39m,weights_only\u001B[38;5;241m=\u001B[39m\u001B[38;5;28;01mTrue\u001B[39;00m, map_location\u001B[38;5;241m=\u001B[39mdevice)\n\u001B[0;32m---> 16\u001B[0m     \u001B[43mmodel\u001B[49m\u001B[38;5;241;43m.\u001B[39;49m\u001B[43mload_state_dict\u001B[49m\u001B[43m(\u001B[49m\u001B[43mcheckpoint\u001B[49m\u001B[43m[\u001B[49m\u001B[38;5;124;43m'\u001B[39;49m\u001B[38;5;124;43mmodel_state_dict\u001B[39;49m\u001B[38;5;124;43m'\u001B[39;49m\u001B[43m]\u001B[49m\u001B[43m)\u001B[49m\n\u001B[1;32m     17\u001B[0m     optimizer\u001B[38;5;241m.\u001B[39mload_state_dict(checkpoint[\u001B[38;5;124m'\u001B[39m\u001B[38;5;124moptimizer_state_dict\u001B[39m\u001B[38;5;124m'\u001B[39m])\n\u001B[1;32m     19\u001B[0m \u001B[38;5;66;03m# Huấn luyện từng file một\u001B[39;00m\n",
      "File \u001B[0;32m/opt/anaconda3/envs/ndyduc/lib/python3.12/site-packages/torch/nn/modules/module.py:2584\u001B[0m, in \u001B[0;36mModule.load_state_dict\u001B[0;34m(self, state_dict, strict, assign)\u001B[0m\n\u001B[1;32m   2576\u001B[0m         error_msgs\u001B[38;5;241m.\u001B[39minsert(\n\u001B[1;32m   2577\u001B[0m             \u001B[38;5;241m0\u001B[39m,\n\u001B[1;32m   2578\u001B[0m             \u001B[38;5;124m\"\u001B[39m\u001B[38;5;124mMissing key(s) in state_dict: \u001B[39m\u001B[38;5;132;01m{}\u001B[39;00m\u001B[38;5;124m. \u001B[39m\u001B[38;5;124m\"\u001B[39m\u001B[38;5;241m.\u001B[39mformat(\n\u001B[1;32m   2579\u001B[0m                 \u001B[38;5;124m\"\u001B[39m\u001B[38;5;124m, \u001B[39m\u001B[38;5;124m\"\u001B[39m\u001B[38;5;241m.\u001B[39mjoin(\u001B[38;5;124mf\u001B[39m\u001B[38;5;124m'\u001B[39m\u001B[38;5;124m\"\u001B[39m\u001B[38;5;132;01m{\u001B[39;00mk\u001B[38;5;132;01m}\u001B[39;00m\u001B[38;5;124m\"\u001B[39m\u001B[38;5;124m'\u001B[39m \u001B[38;5;28;01mfor\u001B[39;00m k \u001B[38;5;129;01min\u001B[39;00m missing_keys)\n\u001B[1;32m   2580\u001B[0m             ),\n\u001B[1;32m   2581\u001B[0m         )\n\u001B[1;32m   2583\u001B[0m \u001B[38;5;28;01mif\u001B[39;00m \u001B[38;5;28mlen\u001B[39m(error_msgs) \u001B[38;5;241m>\u001B[39m \u001B[38;5;241m0\u001B[39m:\n\u001B[0;32m-> 2584\u001B[0m     \u001B[38;5;28;01mraise\u001B[39;00m \u001B[38;5;167;01mRuntimeError\u001B[39;00m(\n\u001B[1;32m   2585\u001B[0m         \u001B[38;5;124m\"\u001B[39m\u001B[38;5;124mError(s) in loading state_dict for \u001B[39m\u001B[38;5;132;01m{}\u001B[39;00m\u001B[38;5;124m:\u001B[39m\u001B[38;5;130;01m\\n\u001B[39;00m\u001B[38;5;130;01m\\t\u001B[39;00m\u001B[38;5;132;01m{}\u001B[39;00m\u001B[38;5;124m\"\u001B[39m\u001B[38;5;241m.\u001B[39mformat(\n\u001B[1;32m   2586\u001B[0m             \u001B[38;5;28mself\u001B[39m\u001B[38;5;241m.\u001B[39m\u001B[38;5;18m__class__\u001B[39m\u001B[38;5;241m.\u001B[39m\u001B[38;5;18m__name__\u001B[39m, \u001B[38;5;124m\"\u001B[39m\u001B[38;5;130;01m\\n\u001B[39;00m\u001B[38;5;130;01m\\t\u001B[39;00m\u001B[38;5;124m\"\u001B[39m\u001B[38;5;241m.\u001B[39mjoin(error_msgs)\n\u001B[1;32m   2587\u001B[0m         )\n\u001B[1;32m   2588\u001B[0m     )\n\u001B[1;32m   2589\u001B[0m \u001B[38;5;28;01mreturn\u001B[39;00m _IncompatibleKeys(missing_keys, unexpected_keys)\n",
      "\u001B[0;31mRuntimeError\u001B[0m: Error(s) in loading state_dict for CNN_Pro:\n\tMissing key(s) in state_dict: \"conv4.weight\", \"conv4.bias\", \"bn4.weight\", \"bn4.bias\", \"bn4.running_mean\", \"bn4.running_var\". \n\tsize mismatch for conv1.weight: copying a param with shape torch.Size([32, 1, 3, 3]) from checkpoint, the shape in current model is torch.Size([32, 1, 5, 5]).\n\tsize mismatch for fc1.weight: copying a param with shape torch.Size([256, 32768]) from checkpoint, the shape in current model is torch.Size([512, 4096]).\n\tsize mismatch for fc1.bias: copying a param with shape torch.Size([256]) from checkpoint, the shape in current model is torch.Size([512]).\n\tsize mismatch for fc2.weight: copying a param with shape torch.Size([129, 256]) from checkpoint, the shape in current model is torch.Size([129, 512])."
     ]
    }
   ],
   "execution_count": 62
  },
  {
   "metadata": {
    "ExecuteTime": {
     "end_time": "2025-02-23T11:29:50.313351Z",
     "start_time": "2025-02-23T11:29:50.313293Z"
    }
   },
   "cell_type": "code",
   "source": [
    "import torch\n",
    "import librosa\n",
    "import numpy as np\n",
    "\n",
    "device = torch.device(\"mps\" if torch.backends.mps.is_available() else \"cpu\")\n",
    "\n",
    "# Load mô hình đã huấn luyện\n",
    "model = CNN_Pro().to(device)\n",
    "checkpoint = torch.load(\"checkpoint.pth\",weights_only=True, map_location=device)\n",
    "model.load_state_dict(checkpoint['model_state_dict'])\n",
    "for name, param in model.named_parameters():\n",
    "    if \"fc2\" in name:  # Lớp cuối cùng\n",
    "        print(name, param.mean().item(), param.std().item())\n",
    "model.eval()  # Chuyển sang chế độ dự đoán\n",
    "\n",
    "def predict_notes(wav_path, sr=44100, hop_length=512, window_size=128, step=64):\n",
    "    y, sr = librosa.load(wav_path, sr=sr)\n",
    "    mel_spec = librosa.feature.melspectrogram(y=y, sr=sr, n_mels=128, hop_length=hop_length)\n",
    "    mel_spec_db = librosa.power_to_db(mel_spec, ref=np.max)\n",
    "    print(\"Mel spectrogram shape:\", mel_spec_db.shape)\n",
    "    print(\"Max value:\", np.max(mel_spec_db), \"Min value:\", np.min(mel_spec_db))\n",
    "    # Chia nhỏ spectrogram thành các đoạn như khi huấn luyện\n",
    "    def create_windows(X, window_size, step):\n",
    "        X_windows = []\n",
    "        indices = []\n",
    "        for i in range(0, X.shape[1] - window_size, step):\n",
    "            X_windows.append(X[:, i:i + window_size])\n",
    "            indices.append(i)\n",
    "        return np.array(X_windows), indices\n",
    "\n",
    "    X_test, indices = create_windows(mel_spec_db, window_size, step)\n",
    "    X_test = torch.tensor(X_test, dtype=torch.float32).unsqueeze(1).to(device)\n",
    "\n",
    "    # Dự đoán\n",
    "    with torch.no_grad():\n",
    "        outputs = model(X_test)\n",
    "        predicted_notes = torch.argmax(outputs, dim=1).cpu().numpy()\n",
    "\n",
    "    # Chuyển frame thành thời gian\n",
    "    def frame_to_time(frame, sr, hop_length):\n",
    "        return (frame * hop_length) / sr\n",
    "\n",
    "    results = []\n",
    "    prev_note = None\n",
    "    start_time = None\n",
    "    \n",
    "    for idx, note in zip(indices, predicted_notes):\n",
    "        time = frame_to_time(idx, sr, hop_length)\n",
    "    \n",
    "        if note != prev_note:  \n",
    "            if prev_note is not None and prev_note != 128:  # Lưu nốt trước đó nếu nó không phải \"không có nốt\"\n",
    "                results.append((prev_note, start_time, time))\n",
    "            if note != 128:  # Khi đổi sang nốt mới, cập nhật start_time nếu không phải \"không có nốt\"\n",
    "                start_time = time  \n",
    "            prev_note = note  \n",
    "    \n",
    "    # Nếu file kết thúc với một nốt đang chơi, lưu lại nó\n",
    "    if prev_note is not None and prev_note != 128:\n",
    "        results.append((prev_note, start_time, time))\n",
    "\n",
    "    return results\n",
    "\n",
    "# Dùng model để dự đoán nốt nhạc của một file WAV\n",
    "wav_file = \"../Data/MusicNet_Dataset/musicnet/musicnet/train_data/2478.wav\"\n",
    "predicted_notes = predict_notes(wav_file)\n",
    "print(\"Predicted notes:\", predicted_notes)\n",
    "print(\"Unique predicted values:\", np.unique(predicted_notes))\n",
    "\n",
    "for note, start, end in predicted_notes:\n",
    "    if note == 128:  # Nếu là nhãn \"không có nốt\", bỏ qua\n",
    "        continue\n",
    "    note_name = librosa.midi_to_note(note)  # Chuyển số MIDI thành tên nốt nhạc\n",
    "    print(f\"Note: {note_name}, Start: {start:.2f}s, End: {end:.2f}s\")"
   ],
   "id": "b5bf9b298d35e1c3",
   "outputs": [],
   "execution_count": null
  },
  {
   "metadata": {},
   "cell_type": "code",
   "source": "",
   "id": "26c966a9bce0dfc9",
   "outputs": [],
   "execution_count": null
  }
 ],
 "metadata": {
  "kernelspec": {
   "display_name": "Python 3",
   "language": "python",
   "name": "python3"
  },
  "language_info": {
   "codemirror_mode": {
    "name": "ipython",
    "version": 2
   },
   "file_extension": ".py",
   "mimetype": "text/x-python",
   "name": "python",
   "nbconvert_exporter": "python",
   "pygments_lexer": "ipython2",
   "version": "2.7.6"
  }
 },
 "nbformat": 4,
 "nbformat_minor": 5
}
