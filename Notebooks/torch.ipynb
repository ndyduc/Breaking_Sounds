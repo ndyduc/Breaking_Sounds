{
 "cells": [
  {
   "metadata": {
    "ExecuteTime": {
     "end_time": "2025-02-22T09:43:53.343566Z",
     "start_time": "2025-02-22T09:43:50.863142Z"
    }
   },
   "cell_type": "code",
   "source": [
    "import torch\n",
    "import torch.nn as nn\n",
    "import torch.optim as optim\n",
    "import torch.utils.data as data\n",
    "import librosa\n",
    "import numpy as np\n",
    "import pandas as pd\n",
    "\n",
    "file_path = '../Data/MusicNet_Dataset/musicnet/musicnet/train_data/2478.wav'\n",
    "y, sr = librosa.load(file_path, sr=44100)\n",
    "\n",
    "# Chuyển đổi Mel-spectrogram\n",
    "hop_length = 512\n",
    "mel_spec = librosa.feature.melspectrogram(y=y, sr=sr, n_mels=128, hop_length=hop_length)\n",
    "mel_spec_db = librosa.power_to_db(mel_spec, ref=np.max)\n",
    "\n",
    "csv_path = '../Data/MusicNet_Dataset/musicnet/musicnet/train_labels/2478.csv'\n",
    "df = pd.read_csv(csv_path)\n",
    "\n",
    "# Chuyển thời gian thành frame\n",
    "def time_to_frame(time, sr, hop_length):\n",
    "    return int((time / 1000000) * sr // hop_length)\n",
    "\n",
    "df['start_frame'] = df['start_time'].apply(lambda x: time_to_frame(x, sr, hop_length))\n",
    "df['end_frame'] = df['end_time'].apply(lambda x: time_to_frame(x, sr, hop_length))\n",
    "\n",
    "# Gán nhãn cho từng frame\n",
    "y_train = np.full(mel_spec.shape[1], -1)  # Mặc định không có nốt (-1)\n",
    "for _, row in df.iterrows():\n",
    "    start, end, note = row['start_frame'], row['end_frame'], row['note']\n",
    "    y_train[start:end] = note\n",
    "\n",
    "# Thay thế -1 bằng 128 (nhãn \"không có nốt\")\n",
    "y_train[y_train == -1] = 128\n",
    "\n",
    "# Tạo các cửa sổ (windows)\n",
    "def create_windows_torch(X, y, window_size=128, step=64):\n",
    "    X_windows, y_windows = [], []\n",
    "    for i in range(0, X.shape[1] - window_size, step):\n",
    "        X_windows.append(X[:, i:i + window_size])\n",
    "        center_index = i + window_size // 2\n",
    "        if center_index < len(y):\n",
    "            y_windows.append(y[center_index])\n",
    "            \n",
    "     # Gộp list thành numpy array trước khi chuyển sang tensor\n",
    "    return torch.tensor(np.array(X_windows), dtype=torch.float32), torch.tensor(np.array(y_windows), dtype=torch.long)\n",
    "\n",
    "X_train, y_train = create_windows_torch(mel_spec_db, y_train)\n",
    "\n",
    "# thêm 1 kênh để phù hợp Conv2D pytorch\n",
    "X_train = X_train.unsqueeze(1)  # (batch, 1, 128, 128)"
   ],
   "id": "ad130ddcc38548b8",
   "outputs": [],
   "execution_count": 5
  },
  {
   "metadata": {
    "ExecuteTime": {
     "end_time": "2025-02-22T09:43:53.372083Z",
     "start_time": "2025-02-22T09:43:53.352587Z"
    }
   },
   "cell_type": "code",
   "source": [
    "import torch.nn.functional as F\n",
    "class NoteCNN(nn.Module):\n",
    "    def __init__(self, num_classes=129):\n",
    "        super(NoteCNN, self).__init__()\n",
    "\n",
    "        self.conv1 = nn.Conv2d(1, 32, kernel_size=(3, 3), padding=(1, 1))\n",
    "        self.bn1 = nn.BatchNorm2d(32)\n",
    "        self.pool = nn.MaxPool2d((2, 2))\n",
    "\n",
    "        self.conv2 = nn.Conv2d(32, 64, kernel_size=(3, 3), padding=(1, 1))\n",
    "        self.bn2 = nn.BatchNorm2d(64)\n",
    "\n",
    "        self.conv3 = nn.Conv2d(64, 128, kernel_size=(3, 3), padding=(1, 1))\n",
    "        self.bn3 = nn.BatchNorm2d(128)\n",
    "\n",
    "        self.fc1 = nn.Linear(128 * 16 * 16, 256)\n",
    "        self.dropout = nn.Dropout(0.3)\n",
    "        self.fc2 = nn.Linear(256, num_classes)\n",
    "\n",
    "    def forward(self, x):\n",
    "        x = self.pool(F.relu(self.bn1(self.conv1(x))))\n",
    "        x = self.pool(F.relu(self.bn2(self.conv2(x))))\n",
    "        x = self.pool(F.relu(self.bn3(self.conv3(x))))\n",
    "\n",
    "        x = torch.flatten(x, start_dim=1)\n",
    "        x = F.relu(self.fc1(x))\n",
    "        x = self.dropout(x)\n",
    "        x = self.fc2(x)\n",
    "\n",
    "        return x"
   ],
   "id": "fbef72102a678892",
   "outputs": [],
   "execution_count": 6
  },
  {
   "metadata": {},
   "cell_type": "markdown",
   "source": "",
   "id": "e7c53af6f72d594f"
  },
  {
   "metadata": {
    "ExecuteTime": {
     "end_time": "2025-02-22T09:43:53.399240Z",
     "start_time": "2025-02-22T09:43:53.374448Z"
    }
   },
   "cell_type": "code",
   "source": [
    "class MusicDataset(data.Dataset):\n",
    "    def __init__(self, X, y):\n",
    "        self.X = X\n",
    "        self.y = y\n",
    "\n",
    "    def __len__(self):\n",
    "        return self.X.shape[0]\n",
    "\n",
    "    def __getitem__(self, idx):\n",
    "        return self.X[idx], self.y[idx]\n",
    "\n",
    "# Tạo DataLoader\n",
    "dataset = MusicDataset(X_train, y_train)\n",
    "train_loader = data.DataLoader(dataset, batch_size=64, shuffle=True)"
   ],
   "id": "b172a2e94b13e6d7",
   "outputs": [],
   "execution_count": 7
  },
  {
   "metadata": {
    "ExecuteTime": {
     "end_time": "2025-02-22T09:47:17.149300Z",
     "start_time": "2025-02-22T09:45:45.279883Z"
    }
   },
   "cell_type": "code",
   "source": [
    "def train_model(model, train_loader, criterion, optimizer, device, num_epochs=20):\n",
    "    model.to(device)\n",
    "\n",
    "    for epoch in range(num_epochs):\n",
    "        model.train()\n",
    "        running_loss = 0.0\n",
    "        correct = 0\n",
    "        total = 0\n",
    "\n",
    "        for inputs, labels in train_loader:\n",
    "            inputs, labels = inputs.to(device), labels.to(device)\n",
    "\n",
    "            optimizer.zero_grad()\n",
    "            outputs = model(inputs)\n",
    "            loss = criterion(outputs, labels)\n",
    "            loss.backward()\n",
    "            optimizer.step()\n",
    "\n",
    "            running_loss += loss.item()\n",
    "            _, predicted = outputs.max(1)\n",
    "            correct += (predicted == labels).sum().item()\n",
    "            total += labels.size(0)\n",
    "\n",
    "        print(f\"Epoch {epoch+1}/{num_epochs}, Loss: {running_loss/len(train_loader):.4f}, \"\n",
    "              f\"Accuracy: {100 * correct / total:.2f}%\")\n",
    "\n",
    "    print(\"Huấn luyện xong!\")\n",
    "\n",
    "\n",
    "device = torch.device(\"mps\" if torch.backends.mps.is_available() else \"cpu\")\n",
    "\n",
    "# Khởi tạo mô hình, hàm mất mát và optimizer\n",
    "model = NoteCNN()\n",
    "criterion = nn.CrossEntropyLoss()\n",
    "optimizer = optim.Adam(model.parameters(), lr=0.001)\n",
    "\n",
    "train_model(model, train_loader, criterion, optimizer, device, num_epochs=20)"
   ],
   "id": "d7ec9e620a957952",
   "outputs": [
    {
     "name": "stdout",
     "output_type": "stream",
     "text": [
      "Epoch 1/20, Loss: 3.9363, Accuracy: 81.54%\n",
      "Epoch 2/20, Loss: 1.8020, Accuracy: 91.59%\n",
      "Epoch 3/20, Loss: 1.2111, Accuracy: 90.89%\n",
      "Epoch 4/20, Loss: 0.8175, Accuracy: 92.76%\n",
      "Epoch 5/20, Loss: 0.5668, Accuracy: 92.29%\n",
      "Epoch 6/20, Loss: 0.4276, Accuracy: 95.33%\n",
      "Epoch 7/20, Loss: 0.3236, Accuracy: 95.56%\n",
      "Epoch 8/20, Loss: 0.3003, Accuracy: 95.56%\n",
      "Epoch 9/20, Loss: 0.2635, Accuracy: 95.33%\n",
      "Epoch 10/20, Loss: 0.2279, Accuracy: 96.03%\n",
      "Epoch 11/20, Loss: 0.3535, Accuracy: 94.86%\n",
      "Epoch 12/20, Loss: 0.2861, Accuracy: 95.56%\n",
      "Epoch 13/20, Loss: 0.1991, Accuracy: 96.03%\n",
      "Epoch 14/20, Loss: 0.2043, Accuracy: 96.03%\n",
      "Epoch 15/20, Loss: 0.1539, Accuracy: 96.26%\n",
      "Epoch 16/20, Loss: 0.1551, Accuracy: 95.79%\n",
      "Epoch 17/20, Loss: 0.1172, Accuracy: 96.73%\n",
      "Epoch 18/20, Loss: 0.1427, Accuracy: 96.50%\n",
      "Epoch 19/20, Loss: 0.2205, Accuracy: 95.79%\n",
      "Epoch 20/20, Loss: 0.1186, Accuracy: 96.50%\n",
      "Huấn luyện xong!\n"
     ]
    }
   ],
   "execution_count": 9
  },
  {
   "metadata": {
    "ExecuteTime": {
     "end_time": "2025-02-22T09:45:33.020284Z",
     "start_time": "2025-02-22T09:45:32.962494Z"
    }
   },
   "cell_type": "code",
   "source": "",
   "id": "50a8e834276246c6",
   "outputs": [],
   "execution_count": 8
  }
 ],
 "metadata": {
  "kernelspec": {
   "display_name": "Python 3",
   "language": "python",
   "name": "python3"
  },
  "language_info": {
   "codemirror_mode": {
    "name": "ipython",
    "version": 2
   },
   "file_extension": ".py",
   "mimetype": "text/x-python",
   "name": "python",
   "nbconvert_exporter": "python",
   "pygments_lexer": "ipython2",
   "version": "2.7.6"
  }
 },
 "nbformat": 4,
 "nbformat_minor": 5
}
